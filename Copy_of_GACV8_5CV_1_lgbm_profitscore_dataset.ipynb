{
  "nbformat": 4,
  "nbformat_minor": 0,
  "metadata": {
    "colab": {
      "provenance": [],
      "private_outputs": true,
      "machine_shape": "hm",
      "authorship_tag": "ABX9TyMgoybvLONxuBbyqwiYS6H6",
      "include_colab_link": true
    },
    "kernelspec": {
      "name": "python3",
      "display_name": "Python 3"
    },
    "language_info": {
      "name": "python"
    },
    "gpuClass": "premium",
    "accelerator": "GPU"
  },
  "cells": [
    {
      "cell_type": "markdown",
      "metadata": {
        "id": "view-in-github",
        "colab_type": "text"
      },
      "source": [
        "<a href=\"https://colab.research.google.com/github/dwikagt/P2P_byProfit/blob/main/Copy_of_GACV8_5CV_1_lgbm_profitscore_dataset.ipynb\" target=\"_parent\"><img src=\"https://colab.research.google.com/assets/colab-badge.svg\" alt=\"Open In Colab\"/></a>"
      ]
    },
    {
      "cell_type": "code",
      "source": [
        "#!pip install -q hvplot\n",
        "#!pip install tensorflow==2.7.0\n",
        "# install the Kaggle API client\n",
        "! pip install -q kaggle"
      ],
      "metadata": {
        "id": "C32qp7c7aHiz"
      },
      "execution_count": null,
      "outputs": []
    },
    {
      "cell_type": "code",
      "source": [
        "import pandas as pd\n",
        "import numpy as np\n",
        "import matplotlib.pyplot as plt\n",
        "import matplotlib\n",
        "import seaborn as sns\n",
        "from scipy import stats \n",
        "#import hvplot.pandas\n",
        "#Kaggle\n",
        "from google.colab import files\n",
        "import zipfile,os\n",
        "#processing\n",
        "from sklearn.preprocessing import MinMaxScaler\n",
        "from sklearn.preprocessing import LabelEncoder\n",
        "from sklearn.preprocessing import StandardScaler\n",
        "from sklearn.pipeline import make_pipeline\n",
        "from imblearn.over_sampling import SMOTE\n",
        "from sklearn.model_selection import train_test_split\n",
        "#metric performa\n",
        "from sklearn.metrics import accuracy_score\n",
        "from sklearn.metrics import precision_score\n",
        "from sklearn.metrics import roc_auc_score\n",
        "from sklearn.metrics import recall_score\n",
        "from sklearn.metrics import confusion_matrix\n",
        "from sklearn.metrics import plot_confusion_matrix\n",
        "from sklearn.model_selection import cross_val_score, cross_val_predict\n",
        "from scipy import stats\n",
        "from xgboost import XGBClassifier\n",
        "from sklearn.svm import LinearSVC\n",
        "from sklearn.ensemble import ExtraTreesClassifier\n",
        "from sklearn.ensemble import GradientBoostingClassifier\n",
        "from sklearn.ensemble import RandomForestClassifier\n",
        "from sklearn.tree import DecisionTreeClassifier\n",
        "from sklearn.neural_network import MLPClassifier\n",
        "from sklearn.linear_model import LogisticRegression\n",
        "from lightgbm import LGBMClassifier\n",
        "\n",
        "import tensorflow as tf\n",
        "from tensorflow.keras.models import Sequential, Model\n",
        "from tensorflow.keras.layers import Dense, Dropout, BatchNormalization \n",
        "from tensorflow.keras.optimizers import Adam\n",
        "from tensorflow.keras.metrics import AUC\n",
        "pd.set_option('display.float', '{:.2f}'.format)\n",
        "pd.set_option('display.max_columns', 50)\n",
        "pd.set_option('display.max_rows', 50)"
      ],
      "metadata": {
        "id": "zfhRQ1EaZ_Ol"
      },
      "execution_count": null,
      "outputs": []
    },
    {
      "cell_type": "code",
      "source": [
        "# install the Kaggle API client\n",
        "! pip install -q kaggle"
      ],
      "metadata": {
        "id": "rZn1Mb-GU0vj"
      },
      "execution_count": null,
      "outputs": []
    },
    {
      "cell_type": "code",
      "source": [
        "# Unggah file kaggle.json\n",
        "from google.colab import files\n",
        "files.upload()"
      ],
      "metadata": {
        "id": "89kN7VNbU_1R"
      },
      "execution_count": null,
      "outputs": []
    },
    {
      "cell_type": "code",
      "source": [
        "#membuat directori\n",
        "!mkdir -p ~/.kaggle \n",
        "!cp kaggle.json ~/.kaggle/\n",
        "!chmod 600 ~/.kaggle/kaggle.json"
      ],
      "metadata": {
        "id": "Zb6FHvKcVJAU"
      },
      "execution_count": null,
      "outputs": []
    },
    {
      "cell_type": "code",
      "source": [
        "!kaggle datasets download -d muchazizmuslim/p2p-lending-profit-score-dataset"
      ],
      "metadata": {
        "id": "mS7-YD2OVOlm"
      },
      "execution_count": null,
      "outputs": []
    },
    {
      "cell_type": "code",
      "source": [
        "# melakukan unzip pada dataset yang telah di download\n",
        "import zipfile,os\n",
        "local_zip = '/content/p2p-lending-profit-score-dataset.zip'\n",
        "zip_ref = zipfile.ZipFile(local_zip, 'r')\n",
        "zip_ref.extractall('/tmp')\n",
        "zip_ref.close()"
      ],
      "metadata": {
        "id": "s7JKtLHSXI_h"
      },
      "execution_count": null,
      "outputs": []
    },
    {
      "cell_type": "code",
      "source": [
        "#untuk membaca file\n",
        "import pandas as pd\n",
        "df = pd.read_csv (\"/tmp/P2P-Lending-Profit-Score-Dataset.csv\")"
      ],
      "metadata": {
        "id": "NY1w16NsV3S_"
      },
      "execution_count": null,
      "outputs": []
    },
    {
      "cell_type": "code",
      "source": [
        "df['FICO'] = 0.5*df['fico_range_low'] + 0.5*df['fico_range_high']\n",
        "df.drop(labels=['fico_range_low', 'fico_range_high'], axis=1, inplace=True)"
      ],
      "metadata": {
        "id": "autMH3ONhMGr"
      },
      "execution_count": null,
      "outputs": []
    },
    {
      "cell_type": "code",
      "source": [
        "best_attribute = ['loan_amnt', 'funded_amnt', 'open_acc', 'revol_util', 'bc_open_to_buy',\n",
        "       'bc_util', 'mo_sin_old_rev_tl_op', 'mo_sin_rcnt_rev_tl_op', 'mort_acc',\n",
        "       'pub_rec_bankruptcies', 'FICO', 'sub_grade_A3', 'sub_grade_A5',\n",
        "       'sub_grade_C5', 'sub_grade_D1', 'sub_grade_D4', 'sub_grade_F1',\n",
        "       'sub_grade_F2', 'sub_grade_F3', 'sub_grade_G1', 'sub_grade_G2',\n",
        "       'sub_grade_G3', 'sub_grade_G4', 'sub_grade_G5',\n",
        "       'verification_status_Source Verified', 'purpose_debt_consolidation',\n",
        "       'purpose_educational', 'purpose_major_purchase', 'purpose_medical',\n",
        "       'purpose_moving', 'purpose_renewable_energy', 'home_ownership_OTHER',\n",
        "       'home_ownership_OWN', 'home_ownership_RENT']"
      ],
      "metadata": {
        "id": "q_ocreYvleqc"
      },
      "execution_count": null,
      "outputs": []
    },
    {
      "cell_type": "code",
      "source": [
        "X = df[best_attribute]\n",
        "y = df['Profit_score']"
      ],
      "metadata": {
        "id": "k1cg4L-5bSxA"
      },
      "execution_count": null,
      "outputs": []
    },
    {
      "cell_type": "code",
      "source": [
        "from sklearn.model_selection import cross_val_score, cross_val_predict"
      ],
      "metadata": {
        "id": "8sltQBi5by78"
      },
      "execution_count": null,
      "outputs": []
    },
    {
      "cell_type": "code",
      "source": [
        "clf1 = LGBMClassifier()\n",
        "LGB = cross_val_score(clf1, X,y, cv=5, scoring = \"accuracy\")\n",
        "y_pred = cross_val_predict(clf1, X,y, cv=5)\n",
        "for i in range(5):\n",
        "  print(f\"Accuracy of LightGBM {i+1} : {LGB[i,] * 100:.2f}%\")\n",
        "print(f\"Average Accuracy of LightGBM: {LGB.mean() * 100:.2f}%\")\n",
        "print(f\"Best Accuracy of LightGBM: {LGB.max() * 100:.2f}%\")\n",
        "print(f\"Confusion Matrix: \\n {confusion_matrix(y, y_pred)}\\n\")"
      ],
      "metadata": {
        "id": "KaZJe-Rjb9Ll"
      },
      "execution_count": null,
      "outputs": []
    }
  ]
}
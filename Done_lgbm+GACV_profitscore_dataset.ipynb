{
  "nbformat": 4,
  "nbformat_minor": 0,
  "metadata": {
    "colab": {
      "provenance": [],
      "machine_shape": "hm",
      "authorship_tag": "ABX9TyO1gYpv2/H/uSBACYHLHeRt",
      "include_colab_link": true
    },
    "kernelspec": {
      "name": "python3",
      "display_name": "Python 3"
    },
    "language_info": {
      "name": "python"
    },
    "gpuClass": "standard"
  },
  "cells": [
    {
      "cell_type": "markdown",
      "metadata": {
        "id": "view-in-github",
        "colab_type": "text"
      },
      "source": [
        "<a href=\"https://colab.research.google.com/github/dwikagt/P2P_byProfit/blob/main/Done_lgbm%2BGACV_profitscore_dataset.ipynb\" target=\"_parent\"><img src=\"https://colab.research.google.com/assets/colab-badge.svg\" alt=\"Open In Colab\"/></a>"
      ]
    },
    {
      "cell_type": "code",
      "source": [
        "#!pip install -q hvplot\n",
        "#!pip install tensorflow==2.7.0\n",
        "# install the Kaggle API client\n",
        "! pip install -q kaggle"
      ],
      "metadata": {
        "id": "C32qp7c7aHiz"
      },
      "execution_count": 1,
      "outputs": []
    },
    {
      "cell_type": "code",
      "source": [
        "import pandas as pd\n",
        "import numpy as np\n",
        "import matplotlib.pyplot as plt\n",
        "import matplotlib\n",
        "import seaborn as sns\n",
        "from scipy import stats \n",
        "#import hvplot.pandas\n",
        "#Kaggle\n",
        "from google.colab import files\n",
        "import zipfile,os\n",
        "#processing\n",
        "from sklearn.preprocessing import MinMaxScaler\n",
        "from sklearn.preprocessing import LabelEncoder\n",
        "from sklearn.preprocessing import StandardScaler\n",
        "from sklearn.pipeline import make_pipeline\n",
        "from imblearn.over_sampling import SMOTE\n",
        "from sklearn.model_selection import train_test_split\n",
        "#metric performa\n",
        "from sklearn.metrics import accuracy_score\n",
        "from sklearn.metrics import precision_score\n",
        "from sklearn.metrics import roc_auc_score\n",
        "from sklearn.metrics import recall_score\n",
        "from sklearn.metrics import confusion_matrix\n",
        "from sklearn.metrics import plot_confusion_matrix\n",
        "from sklearn.model_selection import cross_val_score, cross_val_predict\n",
        "from scipy import stats\n",
        "from xgboost import XGBClassifier\n",
        "from sklearn.svm import LinearSVC\n",
        "from sklearn.ensemble import ExtraTreesClassifier\n",
        "from sklearn.ensemble import GradientBoostingClassifier\n",
        "from sklearn.ensemble import RandomForestClassifier\n",
        "from sklearn.tree import DecisionTreeClassifier\n",
        "from sklearn.neural_network import MLPClassifier\n",
        "from sklearn.linear_model import LogisticRegression\n",
        "from lightgbm import LGBMClassifier\n",
        "\n",
        "import tensorflow as tf\n",
        "from tensorflow.keras.models import Sequential, Model\n",
        "from tensorflow.keras.layers import Dense, Dropout, BatchNormalization \n",
        "from tensorflow.keras.optimizers import Adam\n",
        "from tensorflow.keras.metrics import AUC\n",
        "pd.set_option('display.float', '{:.2f}'.format)\n",
        "pd.set_option('display.max_columns', 50)\n",
        "pd.set_option('display.max_rows', 50)"
      ],
      "metadata": {
        "id": "zfhRQ1EaZ_Ol"
      },
      "execution_count": 2,
      "outputs": []
    },
    {
      "cell_type": "code",
      "source": [
        "# install the Kaggle API client\n",
        "! pip install -q kaggle"
      ],
      "metadata": {
        "id": "rZn1Mb-GU0vj"
      },
      "execution_count": 3,
      "outputs": []
    },
    {
      "cell_type": "code",
      "source": [
        "# Unggah file kaggle.json\n",
        "from google.colab import files\n",
        "files.upload()"
      ],
      "metadata": {
        "id": "89kN7VNbU_1R",
        "colab": {
          "base_uri": "https://localhost:8080/",
          "height": 91
        },
        "outputId": "574b5e13-3504-4cc0-da99-49f82ad8814f"
      },
      "execution_count": 4,
      "outputs": [
        {
          "output_type": "display_data",
          "data": {
            "text/plain": [
              "<IPython.core.display.HTML object>"
            ],
            "text/html": [
              "\n",
              "     <input type=\"file\" id=\"files-074b7256-af8e-4196-beab-dfc01b31c347\" name=\"files[]\" multiple disabled\n",
              "        style=\"border:none\" />\n",
              "     <output id=\"result-074b7256-af8e-4196-beab-dfc01b31c347\">\n",
              "      Upload widget is only available when the cell has been executed in the\n",
              "      current browser session. Please rerun this cell to enable.\n",
              "      </output>\n",
              "      <script>// Copyright 2017 Google LLC\n",
              "//\n",
              "// Licensed under the Apache License, Version 2.0 (the \"License\");\n",
              "// you may not use this file except in compliance with the License.\n",
              "// You may obtain a copy of the License at\n",
              "//\n",
              "//      http://www.apache.org/licenses/LICENSE-2.0\n",
              "//\n",
              "// Unless required by applicable law or agreed to in writing, software\n",
              "// distributed under the License is distributed on an \"AS IS\" BASIS,\n",
              "// WITHOUT WARRANTIES OR CONDITIONS OF ANY KIND, either express or implied.\n",
              "// See the License for the specific language governing permissions and\n",
              "// limitations under the License.\n",
              "\n",
              "/**\n",
              " * @fileoverview Helpers for google.colab Python module.\n",
              " */\n",
              "(function(scope) {\n",
              "function span(text, styleAttributes = {}) {\n",
              "  const element = document.createElement('span');\n",
              "  element.textContent = text;\n",
              "  for (const key of Object.keys(styleAttributes)) {\n",
              "    element.style[key] = styleAttributes[key];\n",
              "  }\n",
              "  return element;\n",
              "}\n",
              "\n",
              "// Max number of bytes which will be uploaded at a time.\n",
              "const MAX_PAYLOAD_SIZE = 100 * 1024;\n",
              "\n",
              "function _uploadFiles(inputId, outputId) {\n",
              "  const steps = uploadFilesStep(inputId, outputId);\n",
              "  const outputElement = document.getElementById(outputId);\n",
              "  // Cache steps on the outputElement to make it available for the next call\n",
              "  // to uploadFilesContinue from Python.\n",
              "  outputElement.steps = steps;\n",
              "\n",
              "  return _uploadFilesContinue(outputId);\n",
              "}\n",
              "\n",
              "// This is roughly an async generator (not supported in the browser yet),\n",
              "// where there are multiple asynchronous steps and the Python side is going\n",
              "// to poll for completion of each step.\n",
              "// This uses a Promise to block the python side on completion of each step,\n",
              "// then passes the result of the previous step as the input to the next step.\n",
              "function _uploadFilesContinue(outputId) {\n",
              "  const outputElement = document.getElementById(outputId);\n",
              "  const steps = outputElement.steps;\n",
              "\n",
              "  const next = steps.next(outputElement.lastPromiseValue);\n",
              "  return Promise.resolve(next.value.promise).then((value) => {\n",
              "    // Cache the last promise value to make it available to the next\n",
              "    // step of the generator.\n",
              "    outputElement.lastPromiseValue = value;\n",
              "    return next.value.response;\n",
              "  });\n",
              "}\n",
              "\n",
              "/**\n",
              " * Generator function which is called between each async step of the upload\n",
              " * process.\n",
              " * @param {string} inputId Element ID of the input file picker element.\n",
              " * @param {string} outputId Element ID of the output display.\n",
              " * @return {!Iterable<!Object>} Iterable of next steps.\n",
              " */\n",
              "function* uploadFilesStep(inputId, outputId) {\n",
              "  const inputElement = document.getElementById(inputId);\n",
              "  inputElement.disabled = false;\n",
              "\n",
              "  const outputElement = document.getElementById(outputId);\n",
              "  outputElement.innerHTML = '';\n",
              "\n",
              "  const pickedPromise = new Promise((resolve) => {\n",
              "    inputElement.addEventListener('change', (e) => {\n",
              "      resolve(e.target.files);\n",
              "    });\n",
              "  });\n",
              "\n",
              "  const cancel = document.createElement('button');\n",
              "  inputElement.parentElement.appendChild(cancel);\n",
              "  cancel.textContent = 'Cancel upload';\n",
              "  const cancelPromise = new Promise((resolve) => {\n",
              "    cancel.onclick = () => {\n",
              "      resolve(null);\n",
              "    };\n",
              "  });\n",
              "\n",
              "  // Wait for the user to pick the files.\n",
              "  const files = yield {\n",
              "    promise: Promise.race([pickedPromise, cancelPromise]),\n",
              "    response: {\n",
              "      action: 'starting',\n",
              "    }\n",
              "  };\n",
              "\n",
              "  cancel.remove();\n",
              "\n",
              "  // Disable the input element since further picks are not allowed.\n",
              "  inputElement.disabled = true;\n",
              "\n",
              "  if (!files) {\n",
              "    return {\n",
              "      response: {\n",
              "        action: 'complete',\n",
              "      }\n",
              "    };\n",
              "  }\n",
              "\n",
              "  for (const file of files) {\n",
              "    const li = document.createElement('li');\n",
              "    li.append(span(file.name, {fontWeight: 'bold'}));\n",
              "    li.append(span(\n",
              "        `(${file.type || 'n/a'}) - ${file.size} bytes, ` +\n",
              "        `last modified: ${\n",
              "            file.lastModifiedDate ? file.lastModifiedDate.toLocaleDateString() :\n",
              "                                    'n/a'} - `));\n",
              "    const percent = span('0% done');\n",
              "    li.appendChild(percent);\n",
              "\n",
              "    outputElement.appendChild(li);\n",
              "\n",
              "    const fileDataPromise = new Promise((resolve) => {\n",
              "      const reader = new FileReader();\n",
              "      reader.onload = (e) => {\n",
              "        resolve(e.target.result);\n",
              "      };\n",
              "      reader.readAsArrayBuffer(file);\n",
              "    });\n",
              "    // Wait for the data to be ready.\n",
              "    let fileData = yield {\n",
              "      promise: fileDataPromise,\n",
              "      response: {\n",
              "        action: 'continue',\n",
              "      }\n",
              "    };\n",
              "\n",
              "    // Use a chunked sending to avoid message size limits. See b/62115660.\n",
              "    let position = 0;\n",
              "    do {\n",
              "      const length = Math.min(fileData.byteLength - position, MAX_PAYLOAD_SIZE);\n",
              "      const chunk = new Uint8Array(fileData, position, length);\n",
              "      position += length;\n",
              "\n",
              "      const base64 = btoa(String.fromCharCode.apply(null, chunk));\n",
              "      yield {\n",
              "        response: {\n",
              "          action: 'append',\n",
              "          file: file.name,\n",
              "          data: base64,\n",
              "        },\n",
              "      };\n",
              "\n",
              "      let percentDone = fileData.byteLength === 0 ?\n",
              "          100 :\n",
              "          Math.round((position / fileData.byteLength) * 100);\n",
              "      percent.textContent = `${percentDone}% done`;\n",
              "\n",
              "    } while (position < fileData.byteLength);\n",
              "  }\n",
              "\n",
              "  // All done.\n",
              "  yield {\n",
              "    response: {\n",
              "      action: 'complete',\n",
              "    }\n",
              "  };\n",
              "}\n",
              "\n",
              "scope.google = scope.google || {};\n",
              "scope.google.colab = scope.google.colab || {};\n",
              "scope.google.colab._files = {\n",
              "  _uploadFiles,\n",
              "  _uploadFilesContinue,\n",
              "};\n",
              "})(self);\n",
              "</script> "
            ]
          },
          "metadata": {}
        },
        {
          "output_type": "stream",
          "name": "stdout",
          "text": [
            "Saving kaggle.json to kaggle.json\n"
          ]
        },
        {
          "output_type": "execute_result",
          "data": {
            "text/plain": [
              "{'kaggle.json': b'{\"username\":\"dwikaagt\",\"key\":\"9557792337e4c4f134ed29bbfe845107\"}'}"
            ]
          },
          "metadata": {},
          "execution_count": 4
        }
      ]
    },
    {
      "cell_type": "code",
      "source": [
        "#membuat directori\n",
        "!mkdir -p ~/.kaggle \n",
        "!cp kaggle.json ~/.kaggle/\n",
        "!chmod 600 ~/.kaggle/kaggle.json"
      ],
      "metadata": {
        "id": "Zb6FHvKcVJAU"
      },
      "execution_count": 5,
      "outputs": []
    },
    {
      "cell_type": "code",
      "source": [
        "!kaggle datasets download -d muchazizmuslim/p2p-lending-profit-score-dataset"
      ],
      "metadata": {
        "id": "mS7-YD2OVOlm",
        "colab": {
          "base_uri": "https://localhost:8080/"
        },
        "outputId": "d4137d88-d968-4f17-d233-6cd9f26663c9"
      },
      "execution_count": 6,
      "outputs": [
        {
          "output_type": "stream",
          "name": "stdout",
          "text": [
            "Downloading p2p-lending-profit-score-dataset.zip to /content\n",
            " 97% 465M/480M [00:03<00:00, 173MB/s]\n",
            "100% 480M/480M [00:03<00:00, 147MB/s]\n"
          ]
        }
      ]
    },
    {
      "cell_type": "code",
      "source": [
        "# melakukan unzip pada dataset yang telah di download\n",
        "import zipfile,os\n",
        "local_zip = '/content/p2p-lending-profit-score-dataset.zip'\n",
        "zip_ref = zipfile.ZipFile(local_zip, 'r')\n",
        "zip_ref.extractall('/tmp')\n",
        "zip_ref.close()"
      ],
      "metadata": {
        "id": "s7JKtLHSXI_h"
      },
      "execution_count": 7,
      "outputs": []
    },
    {
      "cell_type": "code",
      "source": [
        "#untuk membaca file\n",
        "import pandas as pd\n",
        "df = pd.read_csv (\"/tmp/P2P-Lending-Profit-Score-Dataset.csv\")"
      ],
      "metadata": {
        "id": "NY1w16NsV3S_"
      },
      "execution_count": 8,
      "outputs": []
    },
    {
      "cell_type": "code",
      "source": [
        "best_attribute = ['funded_amnt', 'int_rate', 'installment', 'pub_rec', 'bc_open_to_buy',\n",
        "       'mort_acc', 'num_actv_rev_tl', 'pub_rec_bankruptcies', 'sub_grade_A5',\n",
        "       'sub_grade_B1', 'sub_grade_C1', 'sub_grade_C3', 'sub_grade_C5',\n",
        "       'sub_grade_D1', 'sub_grade_D2', 'sub_grade_D4', 'sub_grade_E3',\n",
        "       'sub_grade_E4', 'sub_grade_E5', 'sub_grade_F1', 'sub_grade_F2',\n",
        "       'sub_grade_F3', 'sub_grade_F4', 'sub_grade_F5', 'sub_grade_G1',\n",
        "       'sub_grade_G3', 'sub_grade_G4', 'verification_status_Source Verified',\n",
        "       'purpose_credit_card', 'purpose_educational', 'purpose_major_purchase',\n",
        "       'purpose_moving', 'purpose_other', 'purpose_renewable_energy',\n",
        "       'purpose_wedding']"
      ],
      "metadata": {
        "id": "h5BCC5v2Gr01"
      },
      "execution_count": 9,
      "outputs": []
    },
    {
      "cell_type": "code",
      "source": [
        "# The length of the data\n",
        "print(f\"The Length of the data: {df.shape}\")"
      ],
      "metadata": {
        "colab": {
          "base_uri": "https://localhost:8080/"
        },
        "id": "Srs7Elq-OEwj",
        "outputId": "c31f3e13-2ce7-4ff7-e682-6dd831fcf3dc"
      },
      "execution_count": 10,
      "outputs": [
        {
          "output_type": "stream",
          "name": "stdout",
          "text": [
            "The Length of the data: (4303450, 80)\n"
          ]
        }
      ]
    },
    {
      "cell_type": "code",
      "source": [
        "X = df[best_attribute]\n",
        "y = df['Profit_score']"
      ],
      "metadata": {
        "id": "k1cg4L-5bSxA"
      },
      "execution_count": 11,
      "outputs": []
    },
    {
      "cell_type": "code",
      "source": [
        "from sklearn.model_selection import cross_val_score, cross_val_predict"
      ],
      "metadata": {
        "id": "8sltQBi5by78"
      },
      "execution_count": 12,
      "outputs": []
    },
    {
      "cell_type": "code",
      "source": [
        "clf1 = LGBMClassifier()\n",
        "LGB = cross_val_score(clf1, X,y, cv=10, scoring = \"accuracy\")\n",
        "y_pred = cross_val_predict(clf1, X,y, cv=10)\n",
        "for i in range(10):\n",
        "  print(\"Akurasi dari LGB : {0:2%}\". format(LGB[i,]))\n",
        "print(\"Rata-rata Akurasi dari LGB:\", LGB.mean())\n",
        "print(\"Akurasi Terbaik: \", LGB.max())\n",
        "print(f\"Confusion Matrix: \\n {confusion_matrix(y, y_pred)}\\n\")"
      ],
      "metadata": {
        "id": "KaZJe-Rjb9Ll",
        "colab": {
          "base_uri": "https://localhost:8080/"
        },
        "outputId": "8aa3851b-ffc6-4b59-ed23-c2a71166fe9d"
      },
      "execution_count": 13,
      "outputs": [
        {
          "output_type": "stream",
          "name": "stdout",
          "text": [
            "Akurasi dari LGB : 99.991170%\n",
            "Akurasi dari LGB : 99.989079%\n",
            "Akurasi dari LGB : 99.988846%\n",
            "Akurasi dari LGB : 99.973277%\n",
            "Akurasi dari LGB : 99.993029%\n",
            "Akurasi dari LGB : 99.989543%\n",
            "Akurasi dari LGB : 99.972813%\n",
            "Akurasi dari LGB : 99.986522%\n",
            "Akurasi dari LGB : 99.980713%\n",
            "Akurasi dari LGB : 99.987917%\n",
            "Rata-rata Akurasi dari LGB: 0.999852908712777\n",
            "Akurasi Terbaik:  0.9999302884894677\n",
            "Confusion Matrix: \n",
            " [[2151384     341]\n",
            " [    292 2151433]]\n",
            "\n"
          ]
        }
      ]
    },
    {
      "cell_type": "code",
      "source": [
        "clf2 = LGBMClassifier()\n",
        "LGB = cross_val_score(clf2, X,y, cv=5, scoring = \"accuracy\")\n",
        "y_pred = cross_val_predict(clf2, X,y, cv=5)\n",
        "for i in range(5):\n",
        "  print(\"Akurasi dari LGB : {0:2%}\". format(LGB[i,]))\n",
        "print(\"Rata-rata Akurasi dari LGB:\", LGB.mean())\n",
        "print(\"Akurasi Terbaik: \", LGB.max())\n",
        "print(f\"Confusion Matrix: \\n {confusion_matrix(y, y_pred)}\\n\")"
      ],
      "metadata": {
        "colab": {
          "base_uri": "https://localhost:8080/"
        },
        "id": "AA7-qNObQcj0",
        "outputId": "7af7a7f1-2bc8-4558-c6bf-752251c96af8"
      },
      "execution_count": 14,
      "outputs": [
        {
          "output_type": "stream",
          "name": "stdout",
          "text": [
            "Akurasi dari LGB : 99.986987%\n",
            "Akurasi dari LGB : 99.981759%\n",
            "Akurasi dari LGB : 99.993726%\n",
            "Akurasi dari LGB : 99.975136%\n",
            "Akurasi dari LGB : 99.993261%\n",
            "Rata-rata Akurasi dari LGB: 0.9998617388374444\n",
            "Akurasi Terbaik:  0.9999372596405209\n",
            "Confusion Matrix: \n",
            " [[2151428     297]\n",
            " [    298 2151427]]\n",
            "\n"
          ]
        }
      ]
    }
  ]
}